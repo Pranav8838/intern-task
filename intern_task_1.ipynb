{
  "nbformat": 4,
  "nbformat_minor": 0,
  "metadata": {
    "colab": {
      "provenance": [],
      "authorship_tag": "ABX9TyPMzks6PISZedmLVGkwsfVw",
      "include_colab_link": true
    },
    "kernelspec": {
      "name": "python3",
      "display_name": "Python 3"
    },
    "language_info": {
      "name": "python"
    }
  },
  "cells": [
    {
      "cell_type": "markdown",
      "metadata": {
        "id": "view-in-github",
        "colab_type": "text"
      },
      "source": [
        "<a href=\"https://colab.research.google.com/github/Pranav8838/intern-task/blob/main/intern_task_1.ipynb\" target=\"_parent\"><img src=\"https://colab.research.google.com/assets/colab-badge.svg\" alt=\"Open In Colab\"/></a>"
      ]
    },
    {
      "cell_type": "code",
      "execution_count": null,
      "metadata": {
        "colab": {
          "base_uri": "https://localhost:8080/"
        },
        "id": "BGUrLb6db1XE",
        "outputId": "a7e7c173-9edb-4c41-c719-00450214b605"
      },
      "outputs": [
        {
          "output_type": "stream",
          "name": "stdout",
          "text": [
            "Requirement already satisfied: pandas in /usr/local/lib/python3.11/dist-packages (2.2.2)\n",
            "Requirement already satisfied: matplotlib in /usr/local/lib/python3.11/dist-packages (3.10.0)\n",
            "Requirement already satisfied: seaborn in /usr/local/lib/python3.11/dist-packages (0.13.2)\n",
            "Requirement already satisfied: numpy>=1.23.2 in /usr/local/lib/python3.11/dist-packages (from pandas) (2.0.2)\n",
            "Requirement already satisfied: python-dateutil>=2.8.2 in /usr/local/lib/python3.11/dist-packages (from pandas) (2.8.2)\n",
            "Requirement already satisfied: pytz>=2020.1 in /usr/local/lib/python3.11/dist-packages (from pandas) (2025.2)\n",
            "Requirement already satisfied: tzdata>=2022.7 in /usr/local/lib/python3.11/dist-packages (from pandas) (2025.2)\n",
            "Requirement already satisfied: contourpy>=1.0.1 in /usr/local/lib/python3.11/dist-packages (from matplotlib) (1.3.1)\n",
            "Requirement already satisfied: cycler>=0.10 in /usr/local/lib/python3.11/dist-packages (from matplotlib) (0.12.1)\n",
            "Requirement already satisfied: fonttools>=4.22.0 in /usr/local/lib/python3.11/dist-packages (from matplotlib) (4.57.0)\n",
            "Requirement already satisfied: kiwisolver>=1.3.1 in /usr/local/lib/python3.11/dist-packages (from matplotlib) (1.4.8)\n",
            "Requirement already satisfied: packaging>=20.0 in /usr/local/lib/python3.11/dist-packages (from matplotlib) (24.2)\n",
            "Requirement already satisfied: pillow>=8 in /usr/local/lib/python3.11/dist-packages (from matplotlib) (11.1.0)\n",
            "Requirement already satisfied: pyparsing>=2.3.1 in /usr/local/lib/python3.11/dist-packages (from matplotlib) (3.2.3)\n",
            "Requirement already satisfied: six>=1.5 in /usr/local/lib/python3.11/dist-packages (from python-dateutil>=2.8.2->pandas) (1.17.0)\n"
          ]
        }
      ],
      "source": [
        "pip install pandas matplotlib seaborn"
      ]
    },
    {
      "cell_type": "code",
      "source": [
        "import pandas as pd"
      ],
      "metadata": {
        "id": "PI6NIv1IdAdY"
      },
      "execution_count": null,
      "outputs": []
    },
    {
      "cell_type": "code",
      "source": [
        "df = pd.read_csv('student_data.csv')"
      ],
      "metadata": {
        "id": "1JGZI6G4dIXq"
      },
      "execution_count": null,
      "outputs": []
    },
    {
      "cell_type": "code",
      "source": [
        "print(df.head())"
      ],
      "metadata": {
        "colab": {
          "base_uri": "https://localhost:8080/"
        },
        "id": "ykSZOTiPdaiN",
        "outputId": "9d4d929e-4c3c-4fd2-a93e-473ccfc1ef17"
      },
      "execution_count": null,
      "outputs": [
        {
          "output_type": "stream",
          "name": "stdout",
          "text": [
            "   student_id           name  gender  age  math_score  science_score  \\\n",
            "0           1     John Smith    Male   15        78.0             82   \n",
            "1           2  Emily Johnson  Female   16        92.0             88   \n",
            "2           3  Michael Brown    Male   15        65.0             72   \n",
            "3           4    Sarah Davis  Female   16        88.0             85   \n",
            "4           5  Robert Wilson    Male   15        55.0             62   \n",
            "\n",
            "   english_score  attendance_percentage  \n",
            "0             88                     95  \n",
            "1             94                     98  \n",
            "2             68                     87  \n",
            "3             90                     92  \n",
            "4             58                     76  \n"
          ]
        }
      ]
    },
    {
      "cell_type": "code",
      "source": [
        "print(df.isnull().sum())"
      ],
      "metadata": {
        "colab": {
          "base_uri": "https://localhost:8080/"
        },
        "id": "x8bBFMDUducD",
        "outputId": "d331e75b-ef46-4778-db8a-3c6b79122551"
      },
      "execution_count": null,
      "outputs": [
        {
          "output_type": "stream",
          "name": "stdout",
          "text": [
            "student_id               0\n",
            "name                     0\n",
            "gender                   0\n",
            "age                      0\n",
            "math_score               1\n",
            "science_score            0\n",
            "english_score            0\n",
            "attendance_percentage    0\n",
            "dtype: int64\n"
          ]
        }
      ]
    },
    {
      "cell_type": "code",
      "source": [
        "df['math_score'].fillna(df['math_score'].mean(),inplace=True)"
      ],
      "metadata": {
        "colab": {
          "base_uri": "https://localhost:8080/"
        },
        "id": "gByUzLsFeEcF",
        "outputId": "a011445d-aa0f-4cf2-b533-2879772c7490"
      },
      "execution_count": null,
      "outputs": [
        {
          "output_type": "stream",
          "name": "stderr",
          "text": [
            "<ipython-input-8-fa49f202deaf>:1: FutureWarning: A value is trying to be set on a copy of a DataFrame or Series through chained assignment using an inplace method.\n",
            "The behavior will change in pandas 3.0. This inplace method will never work because the intermediate object on which we are setting values always behaves as a copy.\n",
            "\n",
            "For example, when doing 'df[col].method(value, inplace=True)', try using 'df.method({col: value}, inplace=True)' or df[col] = df[col].method(value) instead, to perform the operation inplace on the original object.\n",
            "\n",
            "\n",
            "  df['math_score'].fillna(df['math_score'].mean(),inplace=True)\n"
          ]
        }
      ]
    },
    {
      "cell_type": "code",
      "source": [
        "df.drop_duplicates(inplace=True)"
      ],
      "metadata": {
        "id": "OD0OsDo8fbtC"
      },
      "execution_count": null,
      "outputs": []
    },
    {
      "cell_type": "code",
      "source": [
        "df['average_score'] = (df['math_score'] + df['science_score'] + df['english_score']) / 3"
      ],
      "metadata": {
        "id": "P43A8o5jfr-8",
        "colab": {
          "base_uri": "https://localhost:8080/",
          "height": 141
        },
        "outputId": "d9cae8bf-eeb2-4d82-ef8d-f4f52bf04de3"
      },
      "execution_count": null,
      "outputs": [
        {
          "output_type": "error",
          "ename": "NameError",
          "evalue": "name 'df' is not defined",
          "traceback": [
            "\u001b[0;31m---------------------------------------------------------------------------\u001b[0m",
            "\u001b[0;31mNameError\u001b[0m                                 Traceback (most recent call last)",
            "\u001b[0;32m/tmp/ipython-input-489446675.py\u001b[0m in \u001b[0;36m<cell line: 0>\u001b[0;34m()\u001b[0m\n\u001b[0;32m----> 1\u001b[0;31m \u001b[0mdf\u001b[0m\u001b[0;34m[\u001b[0m\u001b[0;34m'average_score'\u001b[0m\u001b[0;34m]\u001b[0m \u001b[0;34m=\u001b[0m \u001b[0;34m(\u001b[0m\u001b[0mdf\u001b[0m\u001b[0;34m[\u001b[0m\u001b[0;34m'math_score'\u001b[0m\u001b[0;34m]\u001b[0m \u001b[0;34m+\u001b[0m \u001b[0mdf\u001b[0m\u001b[0;34m[\u001b[0m\u001b[0;34m'science_score'\u001b[0m\u001b[0;34m]\u001b[0m \u001b[0;34m+\u001b[0m \u001b[0mdf\u001b[0m\u001b[0;34m[\u001b[0m\u001b[0;34m'english_score'\u001b[0m\u001b[0;34m]\u001b[0m\u001b[0;34m)\u001b[0m \u001b[0;34m/\u001b[0m \u001b[0;36m3\u001b[0m\u001b[0;34m\u001b[0m\u001b[0;34m\u001b[0m\u001b[0m\n\u001b[0m",
            "\u001b[0;31mNameError\u001b[0m: name 'df' is not defined"
          ]
        }
      ]
    },
    {
      "cell_type": "code",
      "source": [
        "df['result']=df['average_score'].apply(lambda x: 'Pass' if x >= 60 else 'Fail')"
      ],
      "metadata": {
        "id": "1RmJlajzgD8e"
      },
      "execution_count": null,
      "outputs": []
    },
    {
      "cell_type": "code",
      "source": [
        "def attendance_category(percentage):\n",
        "    if percentage > 90:\n",
        "        return \"Good\"\n",
        "    elif percentage >= 75:\n",
        "        return \"Average\"\n",
        "    else:\n",
        "        return \"Poor\"\n",
        "\n",
        "df['attendance_category'] = df['attendance_percentage'].apply(attendance_category)"
      ],
      "metadata": {
        "id": "o1sOYwe7gyFK"
      },
      "execution_count": null,
      "outputs": []
    },
    {
      "cell_type": "code",
      "source": [
        "print(df.head(2))"
      ],
      "metadata": {
        "colab": {
          "base_uri": "https://localhost:8080/"
        },
        "id": "sj1qlzX2iq2o",
        "outputId": "b071e7c8-d600-4f66-c07b-91c3a6e7e463"
      },
      "execution_count": null,
      "outputs": [
        {
          "output_type": "stream",
          "name": "stdout",
          "text": [
            "   student_id           name  gender  age  math_score  science_score  \\\n",
            "0           1     John Smith    Male   15        78.0             82   \n",
            "1           2  Emily Johnson  Female   16        92.0             88   \n",
            "\n",
            "   english_score  attendance_percentage  average_score result  \\\n",
            "0             88                     95      82.666667   Pass   \n",
            "1             94                     98      91.333333   Pass   \n",
            "\n",
            "  attendance_category  \n",
            "0                Good  \n",
            "1                Good  \n"
          ]
        }
      ]
    },
    {
      "cell_type": "code",
      "source": [
        "print(df.describe())"
      ],
      "metadata": {
        "colab": {
          "base_uri": "https://localhost:8080/"
        },
        "id": "PutYi--8jfq9",
        "outputId": "1b692a55-d7d4-439b-e5dc-2de652288d2c"
      },
      "execution_count": null,
      "outputs": [
        {
          "output_type": "stream",
          "name": "stdout",
          "text": [
            "       student_id        age  math_score  science_score  english_score  \\\n",
            "count   15.000000  15.000000   15.000000      15.000000      15.000000   \n",
            "mean     8.000000  15.466667   71.500000      74.333333      74.066667   \n",
            "std      4.472136   0.516398   14.936772      12.081075      15.120784   \n",
            "min      1.000000  15.000000   45.000000      51.000000      49.000000   \n",
            "25%      4.500000  15.000000   62.000000      68.000000      63.000000   \n",
            "50%      8.000000  15.000000   72.000000      78.000000      75.000000   \n",
            "75%     11.500000  16.000000   82.500000      83.500000      87.000000   \n",
            "max     15.000000  16.000000   92.000000      88.000000      94.000000   \n",
            "\n",
            "       attendance_percentage  average_score  \n",
            "count              15.000000      15.000000  \n",
            "mean               86.666667      73.300000  \n",
            "std                 9.499373      13.900468  \n",
            "min                68.000000      48.333333  \n",
            "25%                80.500000      65.166667  \n",
            "50%                89.000000      75.000000  \n",
            "75%                94.500000      83.833333  \n",
            "max                98.000000      91.333333  \n"
          ]
        }
      ]
    },
    {
      "cell_type": "code",
      "source": [
        "print(df.groupby('gender')['average_score'].mean())"
      ],
      "metadata": {
        "colab": {
          "base_uri": "https://localhost:8080/"
        },
        "id": "vEQQME28jrDr",
        "outputId": "0f2b01ba-0b14-4b15-c887-7a3dcb28a202"
      },
      "execution_count": null,
      "outputs": [
        {
          "output_type": "stream",
          "name": "stdout",
          "text": [
            "gender\n",
            "Female    81.428571\n",
            "Male      66.187500\n",
            "Name: average_score, dtype: float64\n"
          ]
        }
      ]
    },
    {
      "cell_type": "code",
      "source": [
        "print(df['result'].value_counts())"
      ],
      "metadata": {
        "colab": {
          "base_uri": "https://localhost:8080/"
        },
        "id": "cq2bATA_kGnk",
        "outputId": "411d44ff-d8c6-4d25-f6a7-2d5eb48d0d6d"
      },
      "execution_count": null,
      "outputs": [
        {
          "output_type": "stream",
          "name": "stdout",
          "text": [
            "result\n",
            "Pass    12\n",
            "Fail     3\n",
            "Name: count, dtype: int64\n"
          ]
        }
      ]
    },
    {
      "cell_type": "code",
      "source": [
        "import matplotlib.pyplot as plt\n",
        "import seaborn as sns\n",
        "\n",
        "plt.figure(figsize=(8, 5))\n",
        "sns.histplot(df['average_score'], bins=5, kde=True)\n",
        "plt.title(\"Distribution of Average Scores\")\n",
        "plt.xlabel(\"Average Score\")\n",
        "plt.ylabel(\"Number of Students\")\n",
        "plt.show()"
      ],
      "metadata": {
        "colab": {
          "base_uri": "https://localhost:8080/",
          "height": 487
        },
        "id": "0oYqhJKOkcL-",
        "outputId": "48eba195-53af-4276-e8e6-7ed16b89401a"
      },
      "execution_count": null,
      "outputs": [
        {
          "output_type": "display_data",
          "data": {
            "text/plain": [
              "<Figure size 800x500 with 1 Axes>"
            ],
            "image/png": "[encoded data removed]"
          },
          "metadata": {}
        }
      ]
    },
    {
      "cell_type": "code",
      "source": [
        "sns.countplot(data=df, x='gender', hue='result')\n",
        "plt.title(\"Pass/Fail Distribution by Gender\")\n",
        "plt.show()"
      ],
      "metadata": {
        "colab": {
          "base_uri": "https://localhost:8080/",
          "height": 472
        },
        "id": "wgfbVjs-lqAl",
        "outputId": "50104f5d-2904-4af4-96ba-0d8a46738a93"
      },
      "execution_count": null,
      "outputs": [
        {
          "output_type": "display_data",
          "data": {
            "text/plain": [
              "<Figure size 640x480 with 1 Axes>"
            ],
            "image/png": "[encoded data removed]"
          },
          "metadata": {}
        }
      ]
    },
    {
      "cell_type": "code",
      "source": [
        "sns.boxplot(data=df, x='attendance_category', y='average_score')\n",
        "plt.title(\"Performance by Attendance Category\")\n",
        "plt.show()"
      ],
      "metadata": {
        "colab": {
          "base_uri": "https://localhost:8080/",
          "height": 472
        },
        "id": "P8cPoYzgmB-J",
        "outputId": "6c2f61cf-ca84-4535-c675-883031ccb263"
      },
      "execution_count": null,
      "outputs": [
        {
          "output_type": "display_data",
          "data": {
            "text/plain": [
              "<Figure size 640x480 with 1 Axes>"
            ],
            "image/png": "[encoded data removed]"
          },
          "metadata": {}
        }
      ]
    },
    {
      "cell_type": "code",
      "source": [
        "df.to_csv('cleaned_student_data.csv', index=False)"
      ],
      "metadata": {
        "id": "Uxz0TBKRmemW"
      },
      "execution_count": null,
      "outputs": []
    },
    {
      "cell_type": "code",
      "source": [
        "plt.savefig('average_score_distribution.png')"
      ],
      "metadata": {
        "colab": {
          "base_uri": "https://localhost:8080/",
          "height": 34
        },
        "id": "FsmDO3iWnRs3",
        "outputId": "43ce4988-3a9f-4328-a7ec-691b59f33267"
      },
      "execution_count": null,
      "outputs": [
        {
          "output_type": "display_data",
          "data": {
            "text/plain": [
              "<Figure size 640x480 with 0 Axes>"
            ]
          },
          "metadata": {}
        }
      ]
    },
    {
      "cell_type": "code",
      "source": [],
      "metadata": {
        "id": "0D0hjVPynaiX"
      },
      "execution_count": null,
      "outputs": []
    },
    {
      "cell_type": "code",
      "source": [],
      "metadata": {
        "id": "Vf58D4U1b2dZ"
      },
      "execution_count": null,
      "outputs": []
    }
  ]
}